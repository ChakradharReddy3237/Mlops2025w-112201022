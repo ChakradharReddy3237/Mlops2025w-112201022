{
 "cells": [
  {
   "cell_type": "markdown",
   "id": "4ce563ef",
   "metadata": {
    "id": "4ce563ef"
   },
   "source": [
    "# W&B → Cloud Deploy Lab — Step-by-step Notebook\n",
    "\n",
    "**Purpose:** Teach students how to train a simple model, log it to Weights & Biases (W&B) as an artifact, create a minimal inference service (FastAPI) which downloads the model artifact at startup, containerize the service, and deploy it to Google Cloud Run. The notebook is written so the training + artifact steps can be executed in Colab or a Jupyter server. Docker & cloud deploy steps are runnable on local Ubuntu lab machines.\n",
    "\n",
    "**What you will produce:**\n",
    "\n",
    "- A logged W&B model artifact (`iris-rf`) in project `classroom-deploy`.\n",
    "- A FastAPI inference app that downloads the artifact and serves `/predict`.\n",
    "- A Dockerfile to containerize the app.\n",
    "- Cloud Run deployment instructions (or substitute AWS/Azure as desired).\n",
    "\n",
    "---\n"
   ]
  },
  {
   "cell_type": "markdown",
   "id": "67f2b5e4",
   "metadata": {
    "id": "67f2b5e4"
   },
   "source": [
    "## Prerequisites (before starting)\n",
    "\n",
    "- **W&B account & API key**: Make sure students have W&B accounts (academic) and their `WANDB_API_KEY`.\n",
    "- **Python**: Colab or Python 3.8+ environment.\n",
    "- **For Docker & deploy**: Local Ubuntu machines with Docker and Google Cloud SDK installed.\n",
    "- **Optional**: GitHub account (for CI/CD exercise).\n",
    "\n",
    "**Notes:**\n",
    "- Colab: You can run the training and artifact steps in Colab, but building Docker images and deploying with `gcloud` must be done on local machines.\n",
    "\n"
   ]
  },
  {
   "cell_type": "markdown",
   "id": "0f517cd7",
   "metadata": {
    "id": "0f517cd7"
   },
   "source": [
    "## 1) Install Python dependencies\n",
    "\n",
    "Run this cell in Colab or your local notebook to install the required packages for the lab (training, logging, and local testing)."
   ]
  },
  {
   "cell_type": "code",
   "execution_count": 42,
   "id": "3d28337b",
   "metadata": {
    "colab": {
     "base_uri": "https://localhost:8080/"
    },
    "executionInfo": {
     "elapsed": 13332,
     "status": "ok",
     "timestamp": 1760124607150,
     "user": {
      "displayName": "Ashish Tripathy",
      "userId": "16782863787592507670"
     },
     "user_tz": -330
    },
    "id": "3d28337b",
    "outputId": "721ebbf7-039b-4574-88f1-dc77d58c50c8"
   },
   "outputs": [
    {
     "name": "stdout",
     "output_type": "stream",
     "text": [
      "Installed core packages (wandb, scikit-learn, joblib, numpy)\n"
     ]
    }
   ],
   "source": [
    "!pip install --quiet wandb scikit-learn joblib numpy\n",
    "print('Installed core packages (wandb, scikit-learn, joblib, numpy)')"
   ]
  },
  {
   "cell_type": "markdown",
   "id": "67493301",
   "metadata": {
    "id": "67493301"
   },
   "source": [
    "### 1.1 Set your W&B API key\n",
    "\n",
    "There are two ways:\n",
    "\n",
    "- **Option A — Colab / notebook only (ephemeral)**:\n",
    "\n",
    "```python\n",
    "import os\n",
    "os.environ['WANDB_API_KEY'] = 'your_wandb_api_key_here'\n",
    "```\n",
    "\n",
    "- **Option B — Use `wandb login` interactively (recommended for Colab):**\n",
    "\n",
    "```bash\n",
    "!wandb login\n",
    "```\n",
    "\n",
    "- **Option C — Local Ubuntu**:\n",
    "\n",
    "```bash\n",
    "export WANDB_API_KEY='your_wandb_api_key_here'\n",
    "```\n",
    "\n",
    "Make sure `WANDB_API_KEY` is set before running W&B code.\n",
    "\n"
   ]
  },
  {
   "cell_type": "code",
   "execution_count": 43,
   "id": "Ta-NpevGnOK9",
   "metadata": {
    "id": "Ta-NpevGnOK9"
   },
   "outputs": [],
   "source": [
    "import os\n",
    "# Replace 'your_api_key_here' with your actual W&B API key\n",
    "# You can find it at: https://wandb.ai/authorize\n",
    "os.environ['WANDB_API_KEY'] = 'fbd5089fe8ff8a2f6dfc053ad7ac625ab10a7a2f'"
   ]
  },
  {
   "cell_type": "code",
   "execution_count": 44,
   "id": "533d1316",
   "metadata": {
    "colab": {
     "base_uri": "https://localhost:8080/"
    },
    "executionInfo": {
     "elapsed": 18,
     "status": "ok",
     "timestamp": 1760126658940,
     "user": {
      "displayName": "Ashish Tripathy",
      "userId": "16782863787592507670"
     },
     "user_tz": -330
    },
    "id": "533d1316",
    "outputId": "2ca35c7e-38c6-436f-f627-b98373d1cd60"
   },
   "outputs": [
    {
     "name": "stdout",
     "output_type": "stream",
     "text": [
      "WANDB_API_KEY is set (will be used by wandb.login()).\n"
     ]
    }
   ],
   "source": [
    "# Quick check for WANDB_API_KEY\n",
    "import os\n",
    "if 'WANDB_API_KEY' in os.environ:\n",
    "    print('WANDB_API_KEY is set (will be used by wandb.login()).')\n",
    "else:\n",
    "    print('WANDB_API_KEY not set. Run `os.environ[...] = '\"your_key\"'` in Colab or `!wandb login`.')"
   ]
  },
  {
   "cell_type": "markdown",
   "id": "e4e4422b",
   "metadata": {
    "id": "e4e4422b"
   },
   "source": [
    "## 2) Login to W&B from the notebook\n",
    "\n",
    "This will attempt to use `WANDB_API_KEY` from the environment. If not set, `wandb.login()` may prompt you interactively (Colab)."
   ]
  },
  {
   "cell_type": "code",
   "execution_count": 45,
   "id": "aa010906",
   "metadata": {
    "colab": {
     "base_uri": "https://localhost:8080/"
    },
    "executionInfo": {
     "elapsed": 4577,
     "status": "ok",
     "timestamp": 1760126666624,
     "user": {
      "displayName": "Ashish Tripathy",
      "userId": "16782863787592507670"
     },
     "user_tz": -330
    },
    "id": "aa010906",
    "outputId": "01211b04-45af-4db9-9e51-e0132a8f6496"
   },
   "outputs": [
    {
     "name": "stdout",
     "output_type": "stream",
     "text": [
      "wandb.login() successful (or WANDB_API_KEY used).\n"
     ]
    }
   ],
   "source": [
    "import wandb\n",
    "try:\n",
    "    wandb.login()\n",
    "    print('wandb.login() successful (or WANDB_API_KEY used).')\n",
    "except Exception as e:\n",
    "    print('wandb.login() failed — set WANDB_API_KEY or run `!wandb login` interactively.\\n', e)"
   ]
  },
  {
   "cell_type": "code",
   "execution_count": 46,
   "id": "WQdWRaqGo8BJ",
   "metadata": {
    "colab": {
     "base_uri": "https://localhost:8080/"
    },
    "executionInfo": {
     "elapsed": 88548,
     "status": "ok",
     "timestamp": 1760126650923,
     "user": {
      "displayName": "Ashish Tripathy",
      "userId": "16782863787592507670"
     },
     "user_tz": -330
    },
    "id": "WQdWRaqGo8BJ",
    "outputId": "5903fd39-affa-43cb-f589-6675721eda3e"
   },
   "outputs": [],
   "source": [
    "# !wandb login --relogin"
   ]
  },
  {
   "cell_type": "markdown",
   "id": "c678487f",
   "metadata": {
    "id": "c678487f"
   },
   "source": [
    "## 3) Step 1 — Train a model and log it to W&B as an artifact\n",
    "\n",
    "This cell trains a small RandomForest on the Iris dataset, saves `model.pkl`, and logs it to W&B in project `classroom-deploy` with artifact name `iris-rf`.\n",
    "\n",
    "**Run this cell**."
   ]
  },
  {
   "cell_type": "code",
   "execution_count": 47,
   "id": "bc5d1fce",
   "metadata": {
    "colab": {
     "base_uri": "https://localhost:8080/",
     "height": 225
    },
    "executionInfo": {
     "elapsed": 4566,
     "status": "ok",
     "timestamp": 1760126675635,
     "user": {
      "displayName": "Ashish Tripathy",
      "userId": "16782863787592507670"
     },
     "user_tz": -330
    },
    "id": "bc5d1fce",
    "outputId": "f3cf0417-fa82-4a06-8c5b-4cd0b68de35e"
   },
   "outputs": [
    {
     "name": "stdout",
     "output_type": "stream",
     "text": [
      "Training model...\n"
     ]
    },
    {
     "data": {
      "text/html": [
       "Changes to your `wandb` environment variables will be ignored because your `wandb` session has already started. For more information on how to modify your settings with `wandb.init()` arguments, please refer to <a href='https://wandb.me/wandb-init' target=\"_blank\">the W&B docs</a>."
      ],
      "text/plain": [
       "<IPython.core.display.HTML object>"
      ]
     },
     "metadata": {},
     "output_type": "display_data"
    },
    {
     "data": {
      "text/html": [],
      "text/plain": [
       "<IPython.core.display.HTML object>"
      ]
     },
     "metadata": {},
     "output_type": "display_data"
    },
    {
     "data": {
      "text/html": [
       "Tracking run with wandb version 0.22.2"
      ],
      "text/plain": [
       "<IPython.core.display.HTML object>"
      ]
     },
     "metadata": {},
     "output_type": "display_data"
    },
    {
     "data": {
      "text/html": [
       "Run data is saved locally in <code>/home/chakri/Documents/S-7/MLoPs/Mlops2025w-112201022/CLASS/Week-8/wandb/run-20251021_230211-wcege67d</code>"
      ],
      "text/plain": [
       "<IPython.core.display.HTML object>"
      ]
     },
     "metadata": {},
     "output_type": "display_data"
    },
    {
     "data": {
      "text/html": [
       "Syncing run <strong><a href='https://wandb.ai/ir2023/classroom-deploy/runs/wcege67d' target=\"_blank\">azure-moon-30</a></strong> to <a href='https://wandb.ai/ir2023/classroom-deploy' target=\"_blank\">Weights & Biases</a> (<a href='https://wandb.me/developer-guide' target=\"_blank\">docs</a>)<br>"
      ],
      "text/plain": [
       "<IPython.core.display.HTML object>"
      ]
     },
     "metadata": {},
     "output_type": "display_data"
    },
    {
     "data": {
      "text/html": [
       " View project at <a href='https://wandb.ai/ir2023/classroom-deploy' target=\"_blank\">https://wandb.ai/ir2023/classroom-deploy</a>"
      ],
      "text/plain": [
       "<IPython.core.display.HTML object>"
      ]
     },
     "metadata": {},
     "output_type": "display_data"
    },
    {
     "data": {
      "text/html": [
       " View run at <a href='https://wandb.ai/ir2023/classroom-deploy/runs/wcege67d' target=\"_blank\">https://wandb.ai/ir2023/classroom-deploy/runs/wcege67d</a>"
      ],
      "text/plain": [
       "<IPython.core.display.HTML object>"
      ]
     },
     "metadata": {},
     "output_type": "display_data"
    },
    {
     "name": "stdout",
     "output_type": "stream",
     "text": [
      "\n",
      "🚀 View your run at: https://wandb.ai/ir2023/classroom-deploy/runs/wcege67d\n",
      "Training accuracy: 1.0000\n",
      "Logged artifact: iris-rf\n",
      "📦 View your artifact at: https://wandb.ai/ir2023/classroom-deploy/runs/wcege67d/artifacts\n",
      "Logged artifact: iris-rf\n",
      "📦 View your artifact at: https://wandb.ai/ir2023/classroom-deploy/runs/wcege67d/artifacts\n"
     ]
    },
    {
     "data": {
      "text/html": [],
      "text/plain": [
       "<IPython.core.display.HTML object>"
      ]
     },
     "metadata": {},
     "output_type": "display_data"
    },
    {
     "data": {
      "text/html": [
       " View run <strong style=\"color:#cdcd00\">azure-moon-30</strong> at: <a href='https://wandb.ai/ir2023/classroom-deploy/runs/wcege67d' target=\"_blank\">https://wandb.ai/ir2023/classroom-deploy/runs/wcege67d</a><br> View project at: <a href='https://wandb.ai/ir2023/classroom-deploy' target=\"_blank\">https://wandb.ai/ir2023/classroom-deploy</a><br>Synced 5 W&B file(s), 0 media file(s), 0 artifact file(s) and 0 other file(s)"
      ],
      "text/plain": [
       "<IPython.core.display.HTML object>"
      ]
     },
     "metadata": {},
     "output_type": "display_data"
    },
    {
     "data": {
      "text/html": [
       "Find logs at: <code>./wandb/run-20251021_230211-wcege67d/logs</code>"
      ],
      "text/plain": [
       "<IPython.core.display.HTML object>"
      ]
     },
     "metadata": {},
     "output_type": "display_data"
    },
    {
     "name": "stdout",
     "output_type": "stream",
     "text": [
      "\n",
      "✅ Training complete! Check the links above.\n"
     ]
    }
   ],
   "source": [
    "from sklearn.datasets import load_iris\n",
    "from sklearn.ensemble import RandomForestClassifier\n",
    "import joblib\n",
    "import wandb\n",
    "\n",
    "print('Training model...')\n",
    "\n",
    "run = wandb.init(project='classroom-deploy', job_type='train')\n",
    "print(f'\\n🚀 View your run at: {run.url}')\n",
    "\n",
    "X, y = load_iris(return_X_y=True)\n",
    "clf = RandomForestClassifier(n_estimators=50, random_state=42)\n",
    "clf.fit(X, y)\n",
    "acc = clf.score(X, y)\n",
    "print(f'Training accuracy: {acc:.4f}')\n",
    "\n",
    "model_path = 'model.pkl'\n",
    "joblib.dump(clf, model_path)\n",
    "\n",
    "artifact = wandb.Artifact(name='iris-rf', type='model', metadata={'accuracy': acc})\n",
    "artifact.add_file(model_path)\n",
    "run.log_artifact(artifact)\n",
    "print('Logged artifact: iris-rf')\n",
    "print(f'📦 View your artifact at: {run.url}/artifacts')\n",
    "run.finish()\n",
    "print('\\n✅ Training complete! Check the links above.')"
   ]
  },
  {
   "cell_type": "markdown",
   "id": "72f28716",
   "metadata": {
    "id": "72f28716"
   },
   "source": [
    "### 3.1 Verify your artifact\n",
    "\n",
    "- Open the W&B web UI (https://wandb.ai) → your account → project `classroom-deploy` and you should see the run and the artifact.\n",
    "\n",
    "- Optional: try to list artifacts via the API. If you encounter permission/enterprise differences, rely on the web UI.\n"
   ]
  },
  {
   "cell_type": "code",
   "execution_count": 48,
   "id": "e1ab551d",
   "metadata": {},
   "outputs": [
    {
     "data": {
      "text/markdown": [
       "\n",
       "## 🔗 Your W&B Links (Click to Open)\n",
       "\n",
       "### Main Dashboard\n",
       "- **Your W&B Home**: [https://wandb.ai/home](https://wandb.ai/home)\n",
       "- **Project Dashboard**: [https://wandb.ai/112201022/classroom-deploy](https://wandb.ai/112201022/classroom-deploy)\n",
       "\n",
       "### Artifacts\n",
       "- **Artifacts Page**: [https://wandb.ai/112201022/classroom-deploy/artifacts](https://wandb.ai/112201022/classroom-deploy/artifacts)\n",
       "- **Iris-RF Model**: [https://wandb.ai/112201022/classroom-deploy/artifacts/model/iris-rf](https://wandb.ai/112201022/classroom-deploy/artifacts/model/iris-rf)\n",
       "\n",
       "### Settings\n",
       "- **API Keys**: [https://wandb.ai/authorize](https://wandb.ai/authorize)\n",
       "- **Account Settings**: [https://wandb.ai/settings](https://wandb.ai/settings)\n",
       "\n",
       "**Your Username**: `112201022`  \n",
       "**Artifact Reference**: `112201022/classroom-deploy/iris-rf:latest`\n"
      ],
      "text/plain": [
       "<IPython.core.display.Markdown object>"
      ]
     },
     "metadata": {},
     "output_type": "display_data"
    },
    {
     "name": "stdout",
     "output_type": "stream",
     "text": [
      "\n",
      "✅ All links generated for user: 112201022\n"
     ]
    }
   ],
   "source": [
    "import wandb\n",
    "from IPython.display import display, Markdown\n",
    "\n",
    "api = wandb.Api()\n",
    "user = api.viewer\n",
    "username = user.username if hasattr(user, 'username') else user.entity\n",
    "\n",
    "links = f\"\"\"\n",
    "## 🔗 Your W&B Links (Click to Open)\n",
    "\n",
    "### Main Dashboard\n",
    "- **Your W&B Home**: [https://wandb.ai/home](https://wandb.ai/home)\n",
    "- **Project Dashboard**: [https://wandb.ai/{username}/classroom-deploy](https://wandb.ai/{username}/classroom-deploy)\n",
    "\n",
    "### Artifacts\n",
    "- **Artifacts Page**: [https://wandb.ai/{username}/classroom-deploy/artifacts](https://wandb.ai/{username}/classroom-deploy/artifacts)\n",
    "- **Iris-RF Model**: [https://wandb.ai/{username}/classroom-deploy/artifacts/model/iris-rf](https://wandb.ai/{username}/classroom-deploy/artifacts/model/iris-rf)\n",
    "\n",
    "### Settings\n",
    "- **API Keys**: [https://wandb.ai/authorize](https://wandb.ai/authorize)\n",
    "- **Account Settings**: [https://wandb.ai/settings](https://wandb.ai/settings)\n",
    "\n",
    "**Your Username**: `{username}`  \n",
    "**Artifact Reference**: `{username}/classroom-deploy/iris-rf:latest`\n",
    "\"\"\"\n",
    "\n",
    "display(Markdown(links))\n",
    "print(f\"\\n✅ All links generated for user: {username}\")"
   ]
  },
  {
   "cell_type": "markdown",
   "id": "c202fc90",
   "metadata": {},
   "source": [
    "### 3.2 Generate Your W&B Links\n",
    "\n",
    "Run this cell to see all your important W&B links that you can click to view in the browser."
   ]
  },
  {
   "cell_type": "code",
   "execution_count": 53,
   "id": "a7802e6f",
   "metadata": {
    "colab": {
     "base_uri": "https://localhost:8080/"
    },
    "executionInfo": {
     "elapsed": 116,
     "status": "ok",
     "timestamp": 1760126680748,
     "user": {
      "displayName": "Ashish Tripathy",
      "userId": "16782863787592507670"
     },
     "user_tz": -330
    },
    "id": "a7802e6f",
    "outputId": "784ae249-44b2-4798-ae89-fb2c69d71a5b"
   },
   "outputs": [
    {
     "name": "stdout",
     "output_type": "stream",
     "text": [
      "Your W&B username: 112201022\n",
      "\n",
      "Artifact should be at: 112201022/classroom-deploy/iris-rf\n",
      "\n",
      "View your artifacts at: https://wandb.ai/112201022/classroom-deploy/artifacts\n",
      "\n",
      "Attempting to list artifacts...\n",
      "- ir2023/classroom-deploy/iris-rf:v8\n",
      "- ir2023/classroom-deploy/iris-rf:v7\n",
      "- ir2023/classroom-deploy/iris-rf:v6\n",
      "- ir2023/classroom-deploy/iris-rf:v5\n",
      "- ir2023/classroom-deploy/iris-rf:v4\n",
      "- ir2023/classroom-deploy/iris-rf:v3\n",
      "- ir2023/classroom-deploy/iris-rf:v2\n",
      "- ir2023/classroom-deploy/iris-rf:v1\n",
      "- ir2023/classroom-deploy/iris-rf:v0\n",
      "- ir2023/classroom-deploy/iris-rf:v8\n",
      "- ir2023/classroom-deploy/iris-rf:v7\n",
      "- ir2023/classroom-deploy/iris-rf:v6\n",
      "- ir2023/classroom-deploy/iris-rf:v5\n",
      "- ir2023/classroom-deploy/iris-rf:v4\n",
      "- ir2023/classroom-deploy/iris-rf:v3\n",
      "- ir2023/classroom-deploy/iris-rf:v2\n",
      "- ir2023/classroom-deploy/iris-rf:v1\n",
      "- ir2023/classroom-deploy/iris-rf:v0\n"
     ]
    }
   ],
   "source": [
    "import wandb\n",
    "api = wandb.Api()\n",
    "try:\n",
    "    # Get your wandb username\n",
    "    user = api.viewer\n",
    "    username = user.username if hasattr(user, 'username') else user.entity\n",
    "    print(f'Your W&B username: {username}')\n",
    "    print(f'\\nArtifact should be at: {username}/classroom-deploy/iris-rf')\n",
    "    print(f'\\nView your artifacts at: https://wandb.ai/{username}/classroom-deploy/artifacts')\n",
    "    \n",
    "    # Try to list artifacts\n",
    "    print('\\nAttempting to list artifacts...')\n",
    "    artifact_full_name = f\"ir2023/classroom-deploy/iris-rf\"\n",
    "    project_artifacts = api.artifacts(type_name='model', per_page=10,name=artifact_full_name)\n",
    "    found = False\n",
    "    for a in project_artifacts:\n",
    "        if 'iris-rf' in a.name:\n",
    "            print(f'- {a.qualified_name}')\n",
    "            found = True\n",
    "    if not found:\n",
    "        print('No iris-rf artifacts found. Check the web UI link above.')\n",
    "except Exception as e:\n",
    "    print('Could not list artifacts via API. Please check the W&B web UI to inspect artifacts.')\n",
    "    print(f'Visit: https://wandb.ai/home to see your projects\\n', e)"
   ]
  },
  {
   "cell_type": "markdown",
   "id": "adadfd98",
   "metadata": {
    "id": "adadfd98"
   },
   "source": [
    "## 4) Step 2 — Create a FastAPI app that downloads the model artifact at startup\n",
    "\n",
    "Run the following cell to create `app/main.py`, `app/requirements.txt`, and a `Dockerfile`. The app expects an environment variable `WANDER_MODEL_ARTIFACT` with the artifact reference, e.g. `your-username/classroom-deploy/iris-rf:latest`. If you want to bake the model into the image, see the notes below.\n"
   ]
  },
  {
   "cell_type": "code",
   "execution_count": 50,
   "id": "16e4176b",
   "metadata": {
    "colab": {
     "base_uri": "https://localhost:8080/"
    },
    "executionInfo": {
     "elapsed": 20,
     "status": "ok",
     "timestamp": 1760126692723,
     "user": {
      "displayName": "Ashish Tripathy",
      "userId": "16782863787592507670"
     },
     "user_tz": -330
    },
    "id": "16e4176b",
    "outputId": "43e70d85-9fef-4dd5-a209-9b50aa5b3aef"
   },
   "outputs": [
    {
     "name": "stdout",
     "output_type": "stream",
     "text": [
      "Wrote files to ./app:\n",
      " - app/main.py\n",
      " - app/requirements.txt\n",
      " - app/Dockerfile\n"
     ]
    }
   ],
   "source": [
    "import os\n",
    "os.makedirs('app', exist_ok=True)\n",
    "\n",
    "main_py = '''import os\n",
    "import joblib\n",
    "import wandb\n",
    "from fastapi import FastAPI\n",
    "import numpy as np\n",
    "\n",
    "app = FastAPI()\n",
    "MODEL_ARTIFACT = os.environ.get('WANDB_MODEL_ARTIFACT', 'your-username/classroom-deploy/iris-rf:latest')\n",
    "\n",
    "# Downloads the artifact and returns a loaded model\n",
    "def load_model_from_wandb(artifact_ref):\n",
    "    try:\n",
    "        wandb.login()\n",
    "    except Exception:\n",
    "        pass\n",
    "    api = wandb.Api()\n",
    "    artifact = api.artifact(artifact_ref)\n",
    "    path = artifact.download()\n",
    "    model_file = os.path.join(path, 'model.pkl')\n",
    "    return joblib.load(model_file)\n",
    "\n",
    "@app.on_event('startup')\n",
    "def startup():\n",
    "    global model\n",
    "    model = load_model_from_wandb(MODEL_ARTIFACT)\n",
    "\n",
    "@app.get('/')\n",
    "def root():\n",
    "    return {'status': 'ok', 'model_artifact': MODEL_ARTIFACT}\n",
    "\n",
    "@app.post('/predict')\n",
    "def predict(features: list):\n",
    "    arr = np.array(features).reshape(1, -1)\n",
    "    pred = model.predict(arr)\n",
    "    return {'prediction': int(pred[0])}\n",
    "'''\n",
    "\n",
    "with open('app/main.py', 'w') as f:\n",
    "    f.write(main_py)\n",
    "\n",
    "reqs = '''fastapi\n",
    "uvicorn[standard]\n",
    "scikit-learn\n",
    "joblib\n",
    "wandb\n",
    "numpy\n",
    "'''\n",
    "with open('app/requirements.txt', 'w') as f:\n",
    "    f.write(reqs)\n",
    "\n",
    "dockerfile = '''FROM python:3.10-slim\n",
    "WORKDIR /app\n",
    "COPY ./requirements.txt /app/requirements.txt\n",
    "RUN pip install --no-cache-dir -r /app/requirements.txt\n",
    "COPY ./main.py /app/main.py\n",
    "ENV PORT=8080\n",
    "CMD [\"uvicorn\", \"main:app\", \"--host\", \"0.0.0.0\", \"--port\", \"8080\"]\n",
    "'''\n",
    "with open('app/Dockerfile', 'w') as f:\n",
    "    f.write(dockerfile)\n",
    "\n",
    "print('Wrote files to ./app:')\n",
    "print(' - app/main.py')\n",
    "print(' - app/requirements.txt')\n",
    "print(' - app/Dockerfile')\n"
   ]
  },
  {
   "cell_type": "code",
   "execution_count": 51,
   "id": "983b9f6f",
   "metadata": {
    "colab": {
     "base_uri": "https://localhost:8080/"
    },
    "executionInfo": {
     "elapsed": 19,
     "status": "ok",
     "timestamp": 1760125671279,
     "user": {
      "displayName": "Ashish Tripathy",
      "userId": "16782863787592507670"
     },
     "user_tz": -330
    },
    "id": "983b9f6f",
    "outputId": "0a64a375-83e6-4408-ad80-e88f2b2a06fb"
   },
   "outputs": [
    {
     "name": "stdout",
     "output_type": "stream",
     "text": [
      "\n",
      "--- app/main.py ---\n",
      "\n",
      "import os\n",
      "import joblib\n",
      "import wandb\n",
      "from fastapi import FastAPI, Body\n",
      "from typing import List\n",
      "import numpy as np\n",
      "\n",
      "app = FastAPI()\n",
      "MODEL_ARTIFACT = os.environ.get('WANDB_MODEL_ARTIFACT', 'your-username/classroom-deploy/iris-rf:latest')\n",
      "\n",
      "# Downloads the artifact and returns a loaded model\n",
      "def load_model_from_wandb(artifact_ref):\n",
      "    try:\n",
      "        wandb.login()\n",
      "    except Exception:\n",
      "        pass\n",
      "    api = wandb.Api()\n",
      "    artifact = api.artifact(artifact_ref)\n",
      "    path = artifact.download()\n",
      "    model_file = os.path.join(path, 'model.pkl')\n",
      "    return joblib.load(model_file)\n",
      "\n",
      "@app.on_event('startup')\n",
      "def startup():\n",
      "    global model\n",
      "    model = load_model_from_wandb(MODEL_ARTIFACT)\n",
      "\n",
      "@app.get('/')\n",
      "def root():\n",
      "    return {'status': 'ok', 'model_artifact': MODEL_ARTIFACT}\n",
      "\n",
      "@app.post('/predict')\n",
      "def predict(features: List[float] = Body(...)):\n",
      "    arr = np.array(features).reshape(1, -1)\n",
      "    pred = model.predict(arr)\n",
      "    return {'prediction': int(pred[0])}\n",
      "\n",
      "\n",
      "(Truncated output)\n"
     ]
    }
   ],
   "source": [
    "print('\\n--- app/main.py ---\\n')\n",
    "print(open('app/main.py').read()[:1000])\n",
    "print('\\n(Truncated output)')"
   ]
  },
  {
   "cell_type": "markdown",
   "id": "23baf8a9",
   "metadata": {
    "id": "23baf8a9"
   },
   "source": [
    "### 4.1 Quick test: Download the artifact and run inference locally (no FastAPI server needed)\n",
    "\n",
    "This lets students verify the model artifact and inference logic inside the notebook. It downloads the artifact using the W&B API and loads `model.pkl` then runs a test prediction.\n"
   ]
  },
  {
   "cell_type": "code",
   "execution_count": 54,
   "id": "21b2eff2",
   "metadata": {
    "colab": {
     "base_uri": "https://localhost:8080/"
    },
    "executionInfo": {
     "elapsed": 727,
     "status": "ok",
     "timestamp": 1760126703020,
     "user": {
      "displayName": "Ashish Tripathy",
      "userId": "16782863787592507670"
     },
     "user_tz": -330
    },
    "id": "21b2eff2",
    "outputId": "8ccf7e87-5fb2-4fde-bea7-4075c074d7fb"
   },
   "outputs": [
    {
     "name": "stdout",
     "output_type": "stream",
     "text": [
      "Attempting to download artifact: ir2023/classroom-deploy/iris-rf:latest\n"
     ]
    },
    {
     "name": "stderr",
     "output_type": "stream",
     "text": [
      "\u001b[34m\u001b[1mwandb\u001b[0m:   1 of 1 files downloaded.  \n"
     ]
    },
    {
     "name": "stdout",
     "output_type": "stream",
     "text": [
      "Downloaded to /home/chakri/Documents/S-7/MLoPs/Mlops2025w-112201022/CLASS/Week-8/artifacts/iris-rf:v8\n",
      "\n",
      "🔗 View artifact at: https://wandb.ai/ir2023/classroom-deploy/iris-rf/files/latest\n",
      "\n",
      "✅ Sample prediction: 0 (Iris class)\n"
     ]
    }
   ],
   "source": [
    "import joblib\n",
    "import wandb\n",
    "import os\n",
    "import numpy as np\n",
    "\n",
    "# Get your username and construct artifact reference\n",
    "api = wandb.Api()\n",
    "user = api.viewer\n",
    "# Use entity 'ir2023' where the artifacts are stored\n",
    "entity = 'ir2023'  # Adjust this if your artifacts are under a different entity\n",
    "artifact_ref = f'{entity}/classroom-deploy/iris-rf:latest'  # or use specific version like :v0\n",
    "\n",
    "print('Attempting to download artifact:', artifact_ref)\n",
    "try:\n",
    "    artifact = api.artifact(artifact_ref)\n",
    "    path = artifact.download()\n",
    "    print('Downloaded to', path)\n",
    "    print(f'\\n🔗 View artifact at: https://wandb.ai/{artifact_ref.replace(\":\", \"/files/\")}')\n",
    "    \n",
    "    model = joblib.load(os.path.join(path, 'model.pkl'))\n",
    "    sample = np.array([5.1, 3.5, 1.4, 0.2]).reshape(1, -1)\n",
    "    pred = model.predict(sample)\n",
    "    print(f'\\n✅ Sample prediction: {pred.tolist()[0]} (Iris class)')\n",
    "except Exception as e:\n",
    "    print('Could not download/run model locally. Check WANDB_API_KEY and artifact ref.\\n', e)\n",
    "    print(f'Expected artifact format: {entity}/classroom-deploy/iris-rf:latest')"
   ]
  },
  {
   "cell_type": "markdown",
   "id": "a34a71bf",
   "metadata": {
    "id": "a34a71bf"
   },
   "source": [
    "### 4.2 Run the FastAPI app locally (non-Docker) — good for quick testing on a development machine\n",
    "\n",
    "From the project root (where `app/` lives), run in a terminal:\n",
    "\n",
    "```bash\n",
    "# make sure WANDB_API_KEY and WANDB_MODEL_ARTIFACT are set in the environment, example:\n",
    "export WANDB_API_KEY='your_api_key_here'\n",
    "export WANDB_MODEL_ARTIFACT='your-username/classroom-deploy/iris-rf:latest'\n",
    "\n",
    "# install requirements (if running outside notebook):\n",
    "pip install -r app/requirements.txt\n",
    "\n",
    "# run server\n",
    "uvicorn app.main:app --host 0.0.0.0 --port 8080\n",
    "```\n",
    "\n",
    "Then in another terminal test:\n",
    "\n",
    "```bash\n",
    "curl -X POST -H \"Content-Type: application/json\" --data '[5.1,3.5,1.4,0.2]' http://localhost:8080/predict\n",
    "```"
   ]
  },
  {
   "cell_type": "code",
   "execution_count": 55,
   "id": "2wDB9ETevaMl",
   "metadata": {
    "id": "2wDB9ETevaMl"
   },
   "outputs": [
    {
     "name": "stdout",
     "output_type": "stream",
     "text": [
      "✓ WANDB_API_KEY set\n"
     ]
    }
   ],
   "source": [
    "# Setting environment variables in notebook\n",
    "import os\n",
    "os.environ['WANDB_API_KEY'] = 'fbd5089fe8ff8a2f6dfc053ad7ac625ab10a7a2f'\n",
    "print('✓ WANDB_API_KEY set')"
   ]
  },
  {
   "cell_type": "code",
   "execution_count": 57,
   "id": "7CIWizvYve9G",
   "metadata": {
    "id": "7CIWizvYve9G"
   },
   "outputs": [
    {
     "name": "stdout",
     "output_type": "stream",
     "text": [
      "✓ WANDB_MODEL_ARTIFACT set to: ir2023/classroom-deploy/iris-rf:latest\n"
     ]
    }
   ],
   "source": [
    "# Set your artifact reference - update with your entity after training\n",
    "import os\n",
    "import wandb\n",
    "\n",
    "# Use the correct entity where artifacts are stored\n",
    "entity = 'ir2023'  # Change this to your entity if different\n",
    "\n",
    "# Set the artifact reference\n",
    "os.environ['WANDB_MODEL_ARTIFACT'] = f'{entity}/classroom-deploy/iris-rf:latest'\n",
    "print(f'✓ WANDB_MODEL_ARTIFACT set to: {os.environ[\"WANDB_MODEL_ARTIFACT\"]}')"
   ]
  },
  {
   "cell_type": "code",
   "execution_count": null,
   "id": "1f320f7f",
   "metadata": {},
   "outputs": [
    {
     "name": "stdout",
     "output_type": "stream",
     "text": [
      "Starting FastAPI server with artifact: 112201022/classroom-deploy/iris-rf:latest\n",
      "Server will start on http://localhost:8080\n",
      "\n",
      "Note: This will run in the background. To stop it, restart the kernel.\n",
      "Starting server...\n"
     ]
    },
    {
     "ename": "",
     "evalue": "",
     "output_type": "error",
     "traceback": [
      "\u001b[1;31mnotebook controller is DISPOSED. \n",
      "\u001b[1;31mView Jupyter <a href='command:jupyter.viewOutput'>log</a> for further details."
     ]
    },
    {
     "ename": "",
     "evalue": "",
     "output_type": "error",
     "traceback": [
      "\u001b[1;31mnotebook controller is DISPOSED. \n",
      "\u001b[1;31mView Jupyter <a href='command:jupyter.viewOutput'>log</a> for further details."
     ]
    }
   ],
   "source": [
    "import subprocess\n",
    "import os\n",
    "import time\n",
    "\n",
    "# Make sure environment variables are set\n",
    "os.environ['WANDB_API_KEY'] = 'fbd5089fe8ff8a2f6dfc053ad7ac625ab10a7a2f'\n",
    "\n",
    "# Get username for artifact reference\n",
    "import wandb\n",
    "api = wandb.Api()\n",
    "user = api.viewer\n",
    "username = user.username if hasattr(user, 'username') else user.entity\n",
    "os.environ['WANDB_MODEL_ARTIFACT'] = f'{username}/classroom-deploy/iris-rf:latest'\n",
    "\n",
    "print(f'Starting FastAPI server with artifact: {os.environ[\"WANDB_MODEL_ARTIFACT\"]}')\n",
    "print('Server will start on http://localhost:8080')\n",
    "print('\\nNote: This will run in the background. To stop it, restart the kernel.')\n",
    "print('Starting server...')\n",
    "\n",
    "# Start uvicorn server in background (you'll need to run this in terminal for better control)"
   ]
  },
  {
   "cell_type": "code",
   "execution_count": null,
   "id": "3b3e59ba",
   "metadata": {},
   "outputs": [
    {
     "name": "stdout",
     "output_type": "stream",
     "text": [
      "\\n❌ Server not running! Start it in a terminal first (see commands above)\n"
     ]
    },
    {
     "ename": "",
     "evalue": "",
     "output_type": "error",
     "traceback": [
      "\u001b[1;31mnotebook controller is DISPOSED. \n",
      "\u001b[1;31mView Jupyter <a href='command:jupyter.viewOutput'>log</a> for further details."
     ]
    },
    {
     "ename": "",
     "evalue": "",
     "output_type": "error",
     "traceback": [
      "\u001b[1;31mnotebook controller is DISPOSED. \n",
      "\u001b[1;31mView Jupyter <a href='command:jupyter.viewOutput'>log</a> for further details."
     ]
    }
   ],
   "source": [
    "# Check if server is running\n",
    "!curl -s http://localhost:8080/ || echo \"\\n❌ Server not running! Start it in a terminal first (see commands above)\""
   ]
  },
  {
   "cell_type": "markdown",
   "id": "ac6fdab4",
   "metadata": {},
   "source": [
    "#### Check if the server is running:\n",
    "\n",
    "Before testing with curl, verify the server is up:"
   ]
  },
  {
   "cell_type": "code",
   "execution_count": 58,
   "id": "c6bd0624",
   "metadata": {},
   "outputs": [
    {
     "name": "stdout",
     "output_type": "stream",
     "text": [
      "\n",
      "╔════════════════════════════════════════════════════════════════════╗\n",
      "║           Commands to Start FastAPI Server in Terminal             ║\n",
      "╚════════════════════════════════════════════════════════════════════╝\n",
      "\n",
      "1. Open a NEW TERMINAL (Ctrl+Shift+`)\n",
      "\n",
      "2. Copy and paste these commands:\n",
      "\n",
      "cd /home/chakri/Documents/S-7/MLoPs/Mlops2025w-112201022/CLASS/Week-8\n",
      "export WANDB_API_KEY='fbd5089fe8ff8a2f6dfc053ad7ac625ab10a7a2f'\n",
      "export WANDB_MODEL_ARTIFACT='112201022/classroom-deploy/iris-rf:latest'\n",
      "uvicorn app.main:app --host 0.0.0.0 --port 8080\n",
      "\n",
      "3. You should see:\n",
      "   INFO:     Started server process\n",
      "   INFO:     Uvicorn running on http://0.0.0.0:8080\n",
      "\n",
      "4. Keep that terminal running and come back to this notebook to test!\n",
      "\n",
      "═══════════════════════════════════════════════════════════════════════\n",
      "\n"
     ]
    }
   ],
   "source": [
    "import wandb\n",
    "import os\n",
    "\n",
    "# Get correct entity\n",
    "entity = 'ir2023'  # Use the entity where artifacts are stored\n",
    "\n",
    "# Get current working directory\n",
    "cwd = os.getcwd()\n",
    "\n",
    "commands = f\"\"\"\n",
    "╔════════════════════════════════════════════════════════════════════╗\n",
    "║           Commands to Start FastAPI Server in Terminal             ║\n",
    "╚════════════════════════════════════════════════════════════════════╝\n",
    "\n",
    "1. Open a NEW TERMINAL (Ctrl+Shift+`)\n",
    "\n",
    "2. Copy and paste these commands:\n",
    "\n",
    "cd {cwd}\n",
    "export WANDB_API_KEY='fbd5089fe8ff8a2f6dfc053ad7ac625ab10a7a2f'\n",
    "export WANDB_MODEL_ARTIFACT='{entity}/classroom-deploy/iris-rf:latest'\n",
    "uvicorn app.main:app --host 0.0.0.0 --port 8080\n",
    "\n",
    "3. You should see:\n",
    "   INFO:     Started server process\n",
    "   INFO:     Uvicorn running on http://0.0.0.0:8080\n",
    "\n",
    "4. Keep that terminal running and come back to this notebook to test!\n",
    "\n",
    "═══════════════════════════════════════════════════════════════════════\n",
    "\"\"\"\n",
    "\n",
    "print(commands)"
   ]
  },
  {
   "cell_type": "markdown",
   "id": "984ab297",
   "metadata": {},
   "source": [
    "#### Copy and run these commands in a separate terminal:\n",
    "\n",
    "Run the cell below to get the exact commands you need to copy to your terminal."
   ]
  },
  {
   "cell_type": "markdown",
   "id": "d22e3327",
   "metadata": {},
   "source": [
    "### 4.3 Start the FastAPI Server\n",
    "\n",
    "To test the FastAPI app, you need to start the server first. You have two options:\n",
    "\n",
    "**Option 1: Run in Terminal (Recommended)**\n",
    "Open a new terminal and run:\n",
    "```bash\n",
    "cd /home/chakri/Documents/S-7/MLoPs/Mlops2025w-112201022/CLASS/Week-8\n",
    "export WANDB_API_KEY='fbd5089fe8ff8a2f6dfc053ad7ac625ab10a7a2f'\n",
    "export WANDB_MODEL_ARTIFACT='your-username/classroom-deploy/iris-rf:latest'\n",
    "uvicorn app.main:app --host 0.0.0.0 --port 8080\n",
    "```\n",
    "\n",
    "**Option 2: Run in Background from Notebook**\n",
    "Use the cell below to start the server in the background."
   ]
  },
  {
   "cell_type": "code",
   "execution_count": null,
   "id": "CA2uQ-CzvTYb",
   "metadata": {
    "colab": {
     "base_uri": "https://localhost:8080/"
    },
    "executionInfo": {
     "elapsed": 109,
     "status": "ok",
     "timestamp": 1760127041520,
     "user": {
      "displayName": "Ashish Tripathy",
      "userId": "16782863787592507670"
     },
     "user_tz": -330
    },
    "id": "CA2uQ-CzvTYb",
    "outputId": "bee8148d-1257-4107-cfdc-2ec11222da3f"
   },
   "outputs": [
    {
     "name": "stdout",
     "output_type": "stream",
     "text": [
      "curl: (7) Failed to connect to localhost port 8080 after 0 ms: Couldn't connect to server\n"
     ]
    },
    {
     "ename": "",
     "evalue": "",
     "output_type": "error",
     "traceback": [
      "\u001b[1;31mnotebook controller is DISPOSED. \n",
      "\u001b[1;31mView Jupyter <a href='command:jupyter.viewOutput'>log</a> for further details."
     ]
    },
    {
     "ename": "",
     "evalue": "",
     "output_type": "error",
     "traceback": [
      "\u001b[1;31mnotebook controller is DISPOSED. \n",
      "\u001b[1;31mView Jupyter <a href='command:jupyter.viewOutput'>log</a> for further details."
     ]
    }
   ],
   "source": [
    "# Test the FastAPI server\n",
    "# Make sure the server is running first (see previous cells)\n",
    "!curl -X POST -H \"Content-Type: application/json\" --data '[5.1,3.5,1.4,0.2]' http://localhost:8080/predict"
   ]
  },
  {
   "cell_type": "code",
   "execution_count": null,
   "id": "2151a73a",
   "metadata": {},
   "outputs": [
    {
     "name": "stdout",
     "output_type": "stream",
     "text": [
      "❌ Error: Cannot connect to server!\n",
      "Make sure the FastAPI server is running in a terminal.\n",
      "Run the terminal commands from the cells above.\n"
     ]
    },
    {
     "ename": "",
     "evalue": "",
     "output_type": "error",
     "traceback": [
      "\u001b[1;31mnotebook controller is DISPOSED. \n",
      "\u001b[1;31mView Jupyter <a href='command:jupyter.viewOutput'>log</a> for further details."
     ]
    },
    {
     "ename": "",
     "evalue": "",
     "output_type": "error",
     "traceback": [
      "\u001b[1;31mnotebook controller is DISPOSED. \n",
      "\u001b[1;31mView Jupyter <a href='command:jupyter.viewOutput'>log</a> for further details."
     ]
    }
   ],
   "source": [
    "# Alternative: Test with Python requests\n",
    "import requests\n",
    "import json\n",
    "\n",
    "try:\n",
    "    # Test root endpoint\n",
    "    response = requests.get('http://localhost:8080/')\n",
    "    print('✅ Server Status:', response.json())\n",
    "    \n",
    "    # Test prediction endpoint\n",
    "    data = [5.1, 3.5, 1.4, 0.2]  # Iris sample\n",
    "    response = requests.post('http://localhost:8080/predict', json=data)\n",
    "    print('\\n✅ Prediction Result:', response.json())\n",
    "    print(f'\\nPredicted Iris class: {response.json()[\"prediction\"]}')\n",
    "    \n",
    "except requests.exceptions.ConnectionError:\n",
    "    print('❌ Error: Cannot connect to server!')\n",
    "    print('Make sure the FastAPI server is running in a terminal.')\n",
    "    print('Run the terminal commands from the cells above.')"
   ]
  },
  {
   "cell_type": "markdown",
   "id": "5eacd785",
   "metadata": {},
   "source": [
    "### 4.4 Test the API (after server is running)\n",
    "\n",
    "Once your server is running, test it with curl or Python requests:"
   ]
  },
  {
   "cell_type": "markdown",
   "id": "1193aca5",
   "metadata": {
    "id": "1193aca5"
   },
   "source": [
    "## 5) Dockerize the app — build and run on local Ubuntu lab machines\n",
    "\n",
    "### 5.1 Get Your Artifact Reference\n",
    "\n",
    "**IMPORTANT:** First, get your correct W&B entity/username from the cell below."
   ]
  },
  {
   "cell_type": "code",
   "execution_count": 59,
   "id": "02569f6e",
   "metadata": {},
   "outputs": [
    {
     "name": "stdout",
     "output_type": "stream",
     "text": [
      "Your W&B Entity: ir2023\n",
      "Your Artifact Reference: ir2023/classroom-deploy/iris-rf:latest\n",
      "\n",
      "======================================================================\n",
      "DOCKER COMMANDS - Copy and run in terminal:\n",
      "======================================================================\n",
      "\n",
      "# 1. Build the Docker image\n",
      "cd /home/chakri/Documents/S-7/MLoPs/Mlops2025w-112201022/CLASS/Week-8/app\n",
      "docker build -t iris-wandb:local .\n",
      "\n",
      "# 2. Run the container\n",
      "docker run -d \\\n",
      "  --name iris-wandb-container \\\n",
      "  -e WANDB_API_KEY='fbd5089fe8ff8a2f6dfc053ad7ac625ab10a7a2f' \\\n",
      "  -e WANDB_MODEL_ARTIFACT='ir2023/classroom-deploy/iris-rf:latest' \\\n",
      "  -p 8080:8080 \\\n",
      "  iris-wandb:local\n",
      "\n",
      "# 3. Wait for startup and check logs\n",
      "sleep 10\n",
      "docker logs iris-wandb-container\n",
      "\n",
      "# 4. Test with curl\n",
      "curl http://localhost:8080/\n",
      "curl -X POST -H \"Content-Type: application/json\" --data '[5.1,3.5,1.4,0.2]' http://localhost:8080/predict\n",
      "\n",
      "# 5. Stop and remove container (when done)\n",
      "docker stop iris-wandb-container\n",
      "docker rm iris-wandb-container\n",
      "\n"
     ]
    }
   ],
   "source": [
    "import wandb\n",
    "import os\n",
    "\n",
    "# Get your username/entity\n",
    "api = wandb.Api()\n",
    "user = api.viewer\n",
    "entity = user.entity  # This is the correct entity name for artifacts\n",
    "\n",
    "print(f\"Your W&B Entity: {entity}\")\n",
    "print(f\"Your Artifact Reference: {entity}/classroom-deploy/iris-rf:latest\")\n",
    "print(\"\\n\" + \"=\"*70)\n",
    "print(\"DOCKER COMMANDS - Copy and run in terminal:\")\n",
    "print(\"=\"*70)\n",
    "\n",
    "commands = f\"\"\"\n",
    "# 1. Build the Docker image\n",
    "cd /home/chakri/Documents/S-7/MLoPs/Mlops2025w-112201022/CLASS/Week-8/app\n",
    "docker build -t iris-wandb:local .\n",
    "\n",
    "# 2. Run the container\n",
    "docker run -d \\\\\n",
    "  --name iris-wandb-container \\\\\n",
    "  -e WANDB_API_KEY='fbd5089fe8ff8a2f6dfc053ad7ac625ab10a7a2f' \\\\\n",
    "  -e WANDB_MODEL_ARTIFACT='{entity}/classroom-deploy/iris-rf:latest' \\\\\n",
    "  -p 8080:8080 \\\\\n",
    "  iris-wandb:local\n",
    "\n",
    "# 3. Wait for startup and check logs\n",
    "sleep 10\n",
    "docker logs iris-wandb-container\n",
    "\n",
    "# 4. Test with curl\n",
    "curl http://localhost:8080/\n",
    "curl -X POST -H \"Content-Type: application/json\" --data '[5.1,3.5,1.4,0.2]' http://localhost:8080/predict\n",
    "\n",
    "# 5. Stop and remove container (when done)\n",
    "docker stop iris-wandb-container\n",
    "docker rm iris-wandb-container\n",
    "\"\"\"\n",
    "\n",
    "print(commands)"
   ]
  },
  {
   "cell_type": "code",
   "execution_count": 64,
   "id": "c43ba760",
   "metadata": {},
   "outputs": [
    {
     "name": "stdout",
     "output_type": "stream",
     "text": [
      "══════════════════════════════════════════════════════════════════════\n",
      "TESTING DOCKERIZED API\n",
      "══════════════════════════════════════════════════════════════════════\n",
      "\n",
      "1. Testing root endpoint (GET /)...\n",
      "   Status: 200\n",
      "   Response: {\n",
      "  \"status\": \"ok\",\n",
      "  \"model_artifact\": \"ir2023/classroom-deploy/iris-rf:latest\"\n",
      "}\n",
      "\n",
      "2. Testing predictions (POST /predict)...\n",
      "\n",
      "   Input: [5.1, 3.5, 1.4, 0.2]\n",
      "   Prediction: 0 (Setosa)\n",
      "   Expected: Setosa\n",
      "   ✅ Match!\n",
      "\n",
      "   Input: [6.7, 3.0, 5.2, 2.3]\n",
      "   Prediction: 2 (Virginica)\n",
      "   Expected: Virginica\n",
      "   ✅ Match!\n",
      "\n",
      "   Input: [5.9, 3.0, 4.2, 1.5]\n",
      "   Prediction: 1 (Versicolor)\n",
      "   Expected: Versicolor\n",
      "   ✅ Match!\n",
      "\n",
      "══════════════════════════════════════════════════════════════════════\n",
      "✅ ALL DOCKER TESTS PASSED!\n",
      "══════════════════════════════════════════════════════════════════════\n"
     ]
    }
   ],
   "source": [
    "# Test the Dockerized API\n",
    "import requests\n",
    "import json\n",
    "\n",
    "base_url = \"http://localhost:8080\"\n",
    "\n",
    "print(\"═\" * 70)\n",
    "print(\"TESTING DOCKERIZED API\")\n",
    "print(\"═\" * 70)\n",
    "\n",
    "try:\n",
    "    # Test root endpoint\n",
    "    print(\"\\n1. Testing root endpoint (GET /)...\")\n",
    "    response = requests.get(f\"{base_url}/\", timeout=5)\n",
    "    print(f\"   Status: {response.status_code}\")\n",
    "    print(f\"   Response: {json.dumps(response.json(), indent=2)}\")\n",
    "    \n",
    "    # Test predictions\n",
    "    print(\"\\n2. Testing predictions (POST /predict)...\")\n",
    "    \n",
    "    test_samples = [\n",
    "        {\"data\": [5.1, 3.5, 1.4, 0.2], \"name\": \"Setosa\"},\n",
    "        {\"data\": [6.7, 3.0, 5.2, 2.3], \"name\": \"Virginica\"},\n",
    "        {\"data\": [5.9, 3.0, 4.2, 1.5], \"name\": \"Versicolor\"},\n",
    "    ]\n",
    "    \n",
    "    iris_names = [\"Setosa\", \"Versicolor\", \"Virginica\"]\n",
    "    \n",
    "    for sample in test_samples:\n",
    "        response = requests.post(\n",
    "            f\"{base_url}/predict\",\n",
    "            json=sample['data'],\n",
    "            timeout=5\n",
    "        )\n",
    "        result = response.json()\n",
    "        prediction = result.get('prediction')\n",
    "        print(f\"\\n   Input: {sample['data']}\")\n",
    "        print(f\"   Prediction: {prediction} ({iris_names[prediction]})\")\n",
    "        print(f\"   Expected: {sample['name']}\")\n",
    "        print(f\"   ✅ Match!\" if iris_names[prediction] == sample['name'] else \"   ❌ Mismatch\")\n",
    "    \n",
    "    print(\"\\n\" + \"═\" * 70)\n",
    "    print(\"✅ ALL DOCKER TESTS PASSED!\")\n",
    "    print(\"═\" * 70)\n",
    "    \n",
    "except requests.exceptions.ConnectionError:\n",
    "    print(\"\\n❌ Cannot connect to Docker container!\")\n",
    "    print(\"   Make sure the container is running: docker ps | grep iris-wandb\")\n",
    "except Exception as e:\n",
    "    print(f\"\\n❌ Error: {e}\")"
   ]
  },
  {
   "cell_type": "markdown",
   "id": "227f0672",
   "metadata": {},
   "source": [
    "### 5.4 Test Dockerized API\n",
    "\n",
    "Test the API running in the Docker container."
   ]
  },
  {
   "cell_type": "code",
   "execution_count": 63,
   "id": "cc835a0f",
   "metadata": {},
   "outputs": [
    {
     "name": "stdout",
     "output_type": "stream",
     "text": [
      "Docker Containers:\n",
      "CONTAINER ID   IMAGE              COMMAND                  CREATED          STATUS          PORTS                                       NAMES\n",
      "31f770bd25c9   iris-wandb:local   \"uvicorn main:app --…\"   54 minutes ago   Up 54 minutes   0.0.0.0:8080->8080/tcp, :::8080->8080/tcp   iris-wandb-test\n",
      "\n",
      "\n",
      "✅ Container is running!\n",
      "\n",
      "Recent logs:\n",
      "\n"
     ]
    }
   ],
   "source": [
    "# Check if Docker container is running\n",
    "import subprocess\n",
    "\n",
    "result = subprocess.run(\n",
    "    [\"docker\", \"ps\", \"--filter\", \"name=iris-wandb\"],\n",
    "    capture_output=True,\n",
    "    text=True\n",
    ")\n",
    "\n",
    "print(\"Docker Containers:\")\n",
    "print(result.stdout)\n",
    "\n",
    "if \"iris-wandb\" in result.stdout and \"Up\" in result.stdout:\n",
    "    print(\"\\n✅ Container is running!\")\n",
    "    \n",
    "    # Get container logs\n",
    "    logs = subprocess.run(\n",
    "        [\"docker\", \"logs\", \"--tail\", \"20\", \"iris-wandb-container\"],\n",
    "        capture_output=True,\n",
    "        text=True\n",
    "    )\n",
    "    print(\"\\nRecent logs:\")\n",
    "    print(logs.stdout[-500:] if len(logs.stdout) > 500 else logs.stdout)\n",
    "else:\n",
    "    print(\"\\n⚠️ Container not running. Run the Docker run command first.\")"
   ]
  },
  {
   "cell_type": "code",
   "execution_count": 62,
   "id": "687a6adc",
   "metadata": {},
   "outputs": [
    {
     "name": "stdout",
     "output_type": "stream",
     "text": [
      "\n",
      "═══════════════════════════════════════════════════════════════════════\n",
      "DOCKER RUN COMMAND - Copy and paste in terminal:\n",
      "═══════════════════════════════════════════════════════════════════════\n",
      "\n",
      "# Stop any existing container\n",
      "docker stop iris-wandb-container 2>/dev/null || true\n",
      "docker rm iris-wandb-container 2>/dev/null || true\n",
      "\n",
      "# Run the container\n",
      "docker run -d \\\n",
      "  --name iris-wandb-container \\\n",
      "  -e WANDB_API_KEY='fbd5089fe8ff8a2f6dfc053ad7ac625ab10a7a2f' \\\n",
      "  -e WANDB_MODEL_ARTIFACT='ir2023/classroom-deploy/iris-rf:latest' \\\n",
      "  -p 8080:8080 \\\n",
      "  iris-wandb:local\n",
      "\n",
      "# Wait for startup\n",
      "echo \"Waiting for container to start...\"\n",
      "sleep 10\n",
      "\n",
      "# Check logs\n",
      "docker logs iris-wandb-container\n",
      "\n",
      "# Check if running\n",
      "docker ps | grep iris-wandb\n",
      "\n",
      "═══════════════════════════════════════════════════════════════════════\n",
      "\n"
     ]
    }
   ],
   "source": [
    "# Generate Docker run command with your artifact\n",
    "import wandb\n",
    "\n",
    "api = wandb.Api()\n",
    "user = api.viewer\n",
    "entity = user.entity\n",
    "artifact_ref = f'{entity}/classroom-deploy/iris-rf:latest'\n",
    "\n",
    "docker_run_cmd = f\"\"\"\n",
    "═══════════════════════════════════════════════════════════════════════\n",
    "DOCKER RUN COMMAND - Copy and paste in terminal:\n",
    "═══════════════════════════════════════════════════════════════════════\n",
    "\n",
    "# Stop any existing container\n",
    "docker stop iris-wandb-container 2>/dev/null || true\n",
    "docker rm iris-wandb-container 2>/dev/null || true\n",
    "\n",
    "# Run the container\n",
    "docker run -d \\\\\n",
    "  --name iris-wandb-container \\\\\n",
    "  -e WANDB_API_KEY='fbd5089fe8ff8a2f6dfc053ad7ac625ab10a7a2f' \\\\\n",
    "  -e WANDB_MODEL_ARTIFACT='{artifact_ref}' \\\\\n",
    "  -p 8080:8080 \\\\\n",
    "  iris-wandb:local\n",
    "\n",
    "# Wait for startup\n",
    "echo \"Waiting for container to start...\"\n",
    "sleep 10\n",
    "\n",
    "# Check logs\n",
    "docker logs iris-wandb-container\n",
    "\n",
    "# Check if running\n",
    "docker ps | grep iris-wandb\n",
    "\n",
    "═══════════════════════════════════════════════════════════════════════\n",
    "\"\"\"\n",
    "\n",
    "print(docker_run_cmd)"
   ]
  },
  {
   "cell_type": "markdown",
   "id": "85a8b886",
   "metadata": {},
   "source": [
    "### 5.3 Run Docker Container Locally\n",
    "\n",
    "Run the Docker container on your Ubuntu machine."
   ]
  },
  {
   "cell_type": "code",
   "execution_count": 61,
   "id": "0babdf9d",
   "metadata": {},
   "outputs": [
    {
     "name": "stdout",
     "output_type": "stream",
     "text": [
      "Docker Images:\n",
      "REPOSITORY   TAG       IMAGE ID       CREATED          SIZE\n",
      "iris-wandb   local     fd6a275c7e61   55 minutes ago   488MB\n",
      "\n",
      "\n",
      "✅ Docker image 'iris-wandb:local' built successfully!\n"
     ]
    }
   ],
   "source": [
    "# Verify Docker image was built\n",
    "import subprocess\n",
    "\n",
    "result = subprocess.run(\n",
    "    [\"docker\", \"images\", \"iris-wandb\"],\n",
    "    capture_output=True,\n",
    "    text=True\n",
    ")\n",
    "\n",
    "print(\"Docker Images:\")\n",
    "print(result.stdout)\n",
    "\n",
    "if \"iris-wandb\" in result.stdout:\n",
    "    print(\"\\n✅ Docker image 'iris-wandb:local' built successfully!\")\n",
    "else:\n",
    "    print(\"\\n❌ Image not found. Run the build command first.\")"
   ]
  },
  {
   "cell_type": "code",
   "execution_count": 60,
   "id": "90f744a1",
   "metadata": {},
   "outputs": [
    {
     "name": "stdout",
     "output_type": "stream",
     "text": [
      "══════════════════════════════════════════════════════════════════════\n",
      "DOCKER BUILD COMMAND\n",
      "══════════════════════════════════════════════════════════════════════\n",
      "\n",
      "Copy and run this command in a terminal:\n",
      "\n",
      "cd /home/chakri/Documents/S-7/MLoPs/Mlops2025w-112201022/CLASS/Week-8/app\n",
      "docker build -t iris-wandb:local .\n",
      "\n",
      "Or run it from here:\n"
     ]
    }
   ],
   "source": [
    "# Build Docker image - Run this in terminal instead\n",
    "# This cell shows the command, but execute it in a terminal\n",
    "\n",
    "import subprocess\n",
    "import os\n",
    "\n",
    "print(\"═\" * 70)\n",
    "print(\"DOCKER BUILD COMMAND\")\n",
    "print(\"═\" * 70)\n",
    "print(\"\\nCopy and run this command in a terminal:\\n\")\n",
    "print(\"cd /home/chakri/Documents/S-7/MLoPs/Mlops2025w-112201022/CLASS/Week-8/app\")\n",
    "print(\"docker build -t iris-wandb:local .\")\n",
    "print(\"\\nOr run it from here:\")\n",
    "\n",
    "# Uncomment to build from notebook (may take a few minutes)\n",
    "# result = subprocess.run(\n",
    "#     [\"docker\", \"build\", \"-t\", \"iris-wandb:local\", \"app/\"],\n",
    "#     capture_output=True,\n",
    "#     text=True\n",
    "# )\n",
    "# print(result.stdout)\n",
    "# print(result.stderr)"
   ]
  },
  {
   "cell_type": "markdown",
   "id": "12b6671b",
   "metadata": {},
   "source": [
    "### 5.2 Build Docker Image\n",
    "\n",
    "Now build the Docker image from your FastAPI app."
   ]
  },
  {
   "cell_type": "markdown",
   "id": "db25adc2",
   "metadata": {
    "id": "db25adc2"
   },
   "source": [
    "## 6) Deploy to Google Cloud Run\n",
    "\n",
    "Google Cloud Run is a fully managed platform that runs containers. It's perfect for deploying ML models because:\n",
    "- **Serverless**: Pay only when requests are being processed\n",
    "- **Auto-scaling**: Scales from 0 to N instances\n",
    "- **Easy deployment**: Simple gcloud commands\n",
    "- **HTTPS by default**: Automatic SSL certificates\n",
    "\n",
    "### Prerequisites:\n",
    "\n",
    "1. **Google Cloud Account** with billing enabled\n",
    "2. **gcloud CLI** installed and configured\n",
    "3. **Docker** working locally (we already have this!)\n",
    "4. **Project created** in Google Cloud Console\n",
    "\n",
    "### 6.1 Setup Google Cloud CLI\n",
    "\n",
    "If you haven't installed gcloud CLI yet, follow these steps:"
   ]
  },
  {
   "cell_type": "code",
   "execution_count": 70,
   "id": "85d805c3",
   "metadata": {},
   "outputs": [
    {
     "name": "stdout",
     "output_type": "stream",
     "text": [
      "\n",
      "═══════════════════════════════════════════════════════════════════════\n",
      "CLOUD RUN MANAGEMENT COMMANDS\n",
      "═══════════════════════════════════════════════════════════════════════\n",
      "\n",
      "# List all Cloud Run services\n",
      "gcloud run services list\n",
      "\n",
      "# Get service details\n",
      "gcloud run services describe iris-wandb --region us-central1\n",
      "\n",
      "# View logs\n",
      "gcloud run services logs read iris-wandb --region us-central1\n",
      "\n",
      "# Follow logs in real-time\n",
      "gcloud run services logs tail iris-wandb --region us-central1\n",
      "\n",
      "# Update environment variables\n",
      "gcloud run services update iris-wandb \\\n",
      "  --region us-central1 \\\n",
      "  --set-env-vars WANDB_MODEL_ARTIFACT=ir2023/classroom-deploy/iris-rf:v1\n",
      "\n",
      "# Update to new image version\n",
      "gcloud run deploy iris-wandb \\\n",
      "  --image gcr.io/YOUR_PROJECT_ID/iris-wandb:v2 \\\n",
      "  --region us-central1\n",
      "\n",
      "# Delete the service (cleanup)\n",
      "gcloud run services delete iris-wandb --region us-central1\n",
      "\n",
      "# View metrics and monitoring\n",
      "# Go to: https://console.cloud.google.com/run\n",
      "\n",
      "═══════════════════════════════════════════════════════════════════════\n",
      "COST OPTIMIZATION TIPS\n",
      "═══════════════════════════════════════════════════════════════════════\n",
      "\n",
      "1. Use min-instances 0 to scale to zero when not in use\n",
      "2. Set appropriate CPU and memory (1 vCPU + 1Gi is usually enough)\n",
      "3. Set timeout to minimum needed (300s for initial model download)\n",
      "4. Monitor usage in Cloud Console\n",
      "5. Delete service when not needed\n",
      "\n",
      "Cloud Run pricing (as of 2025):\n",
      "- Free tier: 2 million requests/month\n",
      "- Pay only for actual request processing time\n",
      "- Scales to zero = $0 when idle!\n",
      "\n",
      "═══════════════════════════════════════════════════════════════════════\n",
      "\n",
      "\n",
      "✅ All GCP commands saved to gcp_deploy_commands.txt\n"
     ]
    }
   ],
   "source": [
    "management_commands = \"\"\"\n",
    "═══════════════════════════════════════════════════════════════════════\n",
    "CLOUD RUN MANAGEMENT COMMANDS\n",
    "═══════════════════════════════════════════════════════════════════════\n",
    "\n",
    "# List all Cloud Run services\n",
    "gcloud run services list\n",
    "\n",
    "# Get service details\n",
    "gcloud run services describe iris-wandb --region us-central1\n",
    "\n",
    "# View logs\n",
    "gcloud run services logs read iris-wandb --region us-central1\n",
    "\n",
    "# Follow logs in real-time\n",
    "gcloud run services logs tail iris-wandb --region us-central1\n",
    "\n",
    "# Update environment variables\n",
    "gcloud run services update iris-wandb \\\\\n",
    "  --region us-central1 \\\\\n",
    "  --set-env-vars WANDB_MODEL_ARTIFACT=ir2023/classroom-deploy/iris-rf:v1\n",
    "\n",
    "# Update to new image version\n",
    "gcloud run deploy iris-wandb \\\\\n",
    "  --image gcr.io/YOUR_PROJECT_ID/iris-wandb:v2 \\\\\n",
    "  --region us-central1\n",
    "\n",
    "# Delete the service (cleanup)\n",
    "gcloud run services delete iris-wandb --region us-central1\n",
    "\n",
    "# View metrics and monitoring\n",
    "# Go to: https://console.cloud.google.com/run\n",
    "\n",
    "═══════════════════════════════════════════════════════════════════════\n",
    "COST OPTIMIZATION TIPS\n",
    "═══════════════════════════════════════════════════════════════════════\n",
    "\n",
    "1. Use min-instances 0 to scale to zero when not in use\n",
    "2. Set appropriate CPU and memory (1 vCPU + 1Gi is usually enough)\n",
    "3. Set timeout to minimum needed (300s for initial model download)\n",
    "4. Monitor usage in Cloud Console\n",
    "5. Delete service when not needed\n",
    "\n",
    "Cloud Run pricing (as of 2025):\n",
    "- Free tier: 2 million requests/month\n",
    "- Pay only for actual request processing time\n",
    "- Scales to zero = $0 when idle!\n",
    "\n",
    "═══════════════════════════════════════════════════════════════════════\n",
    "\"\"\"\n",
    "\n",
    "print(management_commands)\n",
    "\n",
    "with open('gcp_deploy_commands.txt', 'a') as f:\n",
    "    f.write('\\n' + management_commands)\n",
    "    \n",
    "print(\"\\n✅ All GCP commands saved to gcp_deploy_commands.txt\")"
   ]
  },
  {
   "cell_type": "markdown",
   "id": "761824da",
   "metadata": {},
   "source": [
    "### 6.6 Cloud Run Management Commands\n",
    "\n",
    "Useful commands for managing your Cloud Run service:"
   ]
  },
  {
   "cell_type": "code",
   "execution_count": 69,
   "id": "1292df90",
   "metadata": {},
   "outputs": [
    {
     "name": "stdout",
     "output_type": "stream",
     "text": [
      "══════════════════════════════════════════════════════════════════════\n",
      "TESTING CLOUD RUN DEPLOYMENT\n",
      "══════════════════════════════════════════════════════════════════════\n",
      "\n",
      "URL: https://iris-wandb-HASH-uc.a.run.app\n",
      "\n",
      "⚠️  UPDATE THE CLOUD_RUN_URL VARIABLE ABOVE WITH YOUR ACTUAL URL\n",
      "    You get this URL after running the deployment command\n",
      "\n",
      "══════════════════════════════════════════════════════════════════════\n"
     ]
    },
    {
     "data": {
      "text/plain": [
       "'\\ntry:\\n    # Test root endpoint\\n    print(\"\\n1. Testing root endpoint...\")\\n    response = requests.get(f\"{CLOUD_RUN_URL}/\", timeout=30)\\n    print(f\"   Status: {response.status_code}\")\\n    print(f\"   Response: {json.dumps(response.json(), indent=2)}\")\\n\\n    # Test prediction\\n    print(\"\\n2. Testing prediction endpoint...\")\\n    test_data = [5.1, 3.5, 1.4, 0.2]\\n    response = requests.post(\\n        f\"{CLOUD_RUN_URL}/predict\",\\n        json=test_data,\\n        timeout=30\\n    )\\n    result = response.json()\\n    iris_names = [\"Setosa\", \"Versicolor\", \"Virginica\"]\\n    prediction = result.get(\\'prediction\\')\\n\\n    print(f\"   Input: {test_data}\")\\n    print(f\"   Prediction: {prediction} ({iris_names[prediction]})\")\\n    print(\"\\n✅ Cloud Run deployment is working!\")\\n\\nexcept Exception as e:\\n    print(f\"\\n❌ Error: {e}\")\\n    print(\"   Make sure you\\'ve updated CLOUD_RUN_URL with your actual URL\")\\n'"
      ]
     },
     "execution_count": 69,
     "metadata": {},
     "output_type": "execute_result"
    }
   ],
   "source": [
    "# Test Cloud Run deployment\n",
    "# Replace CLOUD_RUN_URL with your actual Cloud Run URL after deployment\n",
    "\n",
    "import requests\n",
    "import json\n",
    "\n",
    "# Replace this with your actual Cloud Run URL\n",
    "CLOUD_RUN_URL = \"https://iris-wandb-HASH-uc.a.run.app\"  # Change this!\n",
    "\n",
    "print(\"═\" * 70)\n",
    "print(\"TESTING CLOUD RUN DEPLOYMENT\")\n",
    "print(\"═\" * 70)\n",
    "print(f\"\\nURL: {CLOUD_RUN_URL}\")\n",
    "print(\"\\n⚠️  UPDATE THE CLOUD_RUN_URL VARIABLE ABOVE WITH YOUR ACTUAL URL\")\n",
    "print(\"    You get this URL after running the deployment command\")\n",
    "print(\"\\n\" + \"═\" * 70)\n",
    "\n",
    "# Uncomment and run after you have your Cloud Run URL:\n",
    "\"\"\"\n",
    "try:\n",
    "    # Test root endpoint\n",
    "    print(\"\\n1. Testing root endpoint...\")\n",
    "    response = requests.get(f\"{CLOUD_RUN_URL}/\", timeout=30)\n",
    "    print(f\"   Status: {response.status_code}\")\n",
    "    print(f\"   Response: {json.dumps(response.json(), indent=2)}\")\n",
    "    \n",
    "    # Test prediction\n",
    "    print(\"\\n2. Testing prediction endpoint...\")\n",
    "    test_data = [5.1, 3.5, 1.4, 0.2]\n",
    "    response = requests.post(\n",
    "        f\"{CLOUD_RUN_URL}/predict\",\n",
    "        json=test_data,\n",
    "        timeout=30\n",
    "    )\n",
    "    result = response.json()\n",
    "    iris_names = [\"Setosa\", \"Versicolor\", \"Virginica\"]\n",
    "    prediction = result.get('prediction')\n",
    "    \n",
    "    print(f\"   Input: {test_data}\")\n",
    "    print(f\"   Prediction: {prediction} ({iris_names[prediction]})\")\n",
    "    print(\"\\n✅ Cloud Run deployment is working!\")\n",
    "    \n",
    "except Exception as e:\n",
    "    print(f\"\\n❌ Error: {e}\")\n",
    "    print(\"   Make sure you've updated CLOUD_RUN_URL with your actual URL\")\n",
    "\"\"\""
   ]
  },
  {
   "cell_type": "markdown",
   "id": "258b0b96",
   "metadata": {},
   "source": [
    "### 6.5 Test Cloud Run Deployment\n",
    "\n",
    "Once deployed, test your Cloud Run service:"
   ]
  },
  {
   "cell_type": "code",
   "execution_count": 68,
   "id": "c1a4696b",
   "metadata": {},
   "outputs": [
    {
     "name": "stdout",
     "output_type": "stream",
     "text": [
      "\n",
      "═══════════════════════════════════════════════════════════════════════\n",
      "DEPLOY TO GOOGLE CLOUD RUN\n",
      "═══════════════════════════════════════════════════════════════════════\n",
      "\n",
      "gcloud run deploy iris-wandb \\\n",
      "  --image gcr.io/YOUR_PROJECT_ID/iris-wandb:latest \\\n",
      "  --platform managed \\\n",
      "  --region us-central1 \\\n",
      "  --allow-unauthenticated \\\n",
      "  --set-env-vars WANDB_API_KEY=fbd5089fe8ff8a2f6dfc053ad7ac625ab10a7a2f,WANDB_MODEL_ARTIFACT=ir2023/classroom-deploy/iris-rf:latest \\\n",
      "  --memory 1Gi \\\n",
      "  --cpu 1 \\\n",
      "  --min-instances 0 \\\n",
      "  --max-instances 10 \\\n",
      "  --timeout 300\n",
      "\n",
      "═══════════════════════════════════════════════════════════════════════\n",
      "\n",
      "Options explained:\n",
      "--image               : Your container image from GCR\n",
      "--platform managed    : Use fully managed Cloud Run\n",
      "--region             : us-central1 (or your preferred region)\n",
      "--allow-unauthenticated : Make it publicly accessible\n",
      "--set-env-vars       : Set environment variables (API key & artifact)\n",
      "--memory 1Gi         : Allocate 1GB RAM\n",
      "--cpu 1              : Allocate 1 vCPU\n",
      "--min-instances 0    : Scale to zero when not in use (save costs!)\n",
      "--max-instances 10   : Maximum concurrent instances\n",
      "--timeout 300        : 5 minute timeout (for model download at startup)\n",
      "\n",
      "═══════════════════════════════════════════════════════════════════════\n",
      "\n",
      "After deployment, you'll get a URL like:\n",
      "https://iris-wandb-HASH-uc.a.run.app\n",
      "\n",
      "═══════════════════════════════════════════════════════════════════════\n",
      "\n",
      "\n",
      "✅ Commands appended to gcp_deploy_commands.txt\n"
     ]
    }
   ],
   "source": [
    "# Generate Cloud Run deployment command\n",
    "import subprocess\n",
    "import wandb\n",
    "\n",
    "# Get W&B artifact info\n",
    "api = wandb.Api()\n",
    "user = api.viewer\n",
    "entity = user.entity\n",
    "artifact_ref = f'{entity}/classroom-deploy/iris-rf:latest'\n",
    "\n",
    "# Try to get GCP project ID\n",
    "try:\n",
    "    result = subprocess.run(\n",
    "        [\"gcloud\", \"config\", \"get-value\", \"project\"],\n",
    "        capture_output=True,\n",
    "        text=True,\n",
    "        timeout=5\n",
    "    )\n",
    "    project_id = result.stdout.strip()\n",
    "    if not project_id or project_id == \"(unset)\":\n",
    "        project_id = \"YOUR_PROJECT_ID\"\n",
    "except:\n",
    "    project_id = \"YOUR_PROJECT_ID\"\n",
    "\n",
    "deploy_commands = f\"\"\"\n",
    "═══════════════════════════════════════════════════════════════════════\n",
    "DEPLOY TO GOOGLE CLOUD RUN\n",
    "═══════════════════════════════════════════════════════════════════════\n",
    "\n",
    "gcloud run deploy iris-wandb \\\\\n",
    "  --image gcr.io/{project_id}/iris-wandb:latest \\\\\n",
    "  --platform managed \\\\\n",
    "  --region us-central1 \\\\\n",
    "  --allow-unauthenticated \\\\\n",
    "  --set-env-vars WANDB_API_KEY=fbd5089fe8ff8a2f6dfc053ad7ac625ab10a7a2f,WANDB_MODEL_ARTIFACT={artifact_ref} \\\\\n",
    "  --memory 1Gi \\\\\n",
    "  --cpu 1 \\\\\n",
    "  --min-instances 0 \\\\\n",
    "  --max-instances 10 \\\\\n",
    "  --timeout 300\n",
    "\n",
    "═══════════════════════════════════════════════════════════════════════\n",
    "\n",
    "Options explained:\n",
    "--image               : Your container image from GCR\n",
    "--platform managed    : Use fully managed Cloud Run\n",
    "--region             : us-central1 (or your preferred region)\n",
    "--allow-unauthenticated : Make it publicly accessible\n",
    "--set-env-vars       : Set environment variables (API key & artifact)\n",
    "--memory 1Gi         : Allocate 1GB RAM\n",
    "--cpu 1              : Allocate 1 vCPU\n",
    "--min-instances 0    : Scale to zero when not in use (save costs!)\n",
    "--max-instances 10   : Maximum concurrent instances\n",
    "--timeout 300        : 5 minute timeout (for model download at startup)\n",
    "\n",
    "═══════════════════════════════════════════════════════════════════════\n",
    "\n",
    "After deployment, you'll get a URL like:\n",
    "https://iris-wandb-HASH-uc.a.run.app\n",
    "\n",
    "═══════════════════════════════════════════════════════════════════════\n",
    "\"\"\"\n",
    "\n",
    "print(deploy_commands)\n",
    "\n",
    "# Append to commands file\n",
    "with open('gcp_deploy_commands.txt', 'a') as f:\n",
    "    f.write('\\n' + deploy_commands)\n",
    "    \n",
    "print(\"\\n✅ Commands appended to gcp_deploy_commands.txt\")"
   ]
  },
  {
   "cell_type": "markdown",
   "id": "c792c095",
   "metadata": {},
   "source": [
    "### 6.4 Deploy to Cloud Run\n",
    "\n",
    "Once your image is in GCR, deploy it to Cloud Run:"
   ]
  },
  {
   "cell_type": "code",
   "execution_count": 67,
   "id": "2f181415",
   "metadata": {},
   "outputs": [
    {
     "name": "stdout",
     "output_type": "stream",
     "text": [
      "\n",
      "═══════════════════════════════════════════════════════════════════════\n",
      "BUILD AND PUSH TO GOOGLE CONTAINER REGISTRY\n",
      "═══════════════════════════════════════════════════════════════════════\n",
      "\n",
      "PROJECT_ID: YOUR_PROJECT_ID\n",
      "ARTIFACT: ir2023/classroom-deploy/iris-rf:latest\n",
      "\n",
      "─────────────────────────────────────────────────────────────────────\n",
      "OPTION A: Build locally and push\n",
      "─────────────────────────────────────────────────────────────────────\n",
      "\n",
      "# Tag your local image for GCR\n",
      "docker tag iris-wandb:local gcr.io/YOUR_PROJECT_ID/iris-wandb:latest\n",
      "\n",
      "# Push to GCR\n",
      "docker push gcr.io/YOUR_PROJECT_ID/iris-wandb:latest\n",
      "\n",
      "─────────────────────────────────────────────────────────────────────\n",
      "OPTION B: Use Cloud Build (recommended - builds in cloud)\n",
      "─────────────────────────────────────────────────────────────────────\n",
      "\n",
      "cd /home/chakri/Documents/S-7/MLoPs/Mlops2025w-112201022/CLASS/Week-8/app\n",
      "\n",
      "# Build and push using Cloud Build\n",
      "gcloud builds submit --tag gcr.io/YOUR_PROJECT_ID/iris-wandb\n",
      "\n",
      "# This command:\n",
      "# - Uploads your code to GCS\n",
      "# - Builds the Docker image in the cloud\n",
      "# - Pushes to GCR automatically\n",
      "\n",
      "═══════════════════════════════════════════════════════════════════════\n",
      "\n",
      "\n",
      "✅ Commands saved to gcp_deploy_commands.txt\n"
     ]
    }
   ],
   "source": [
    "# Generate GCR push commands with your project\n",
    "import subprocess\n",
    "import wandb\n",
    "\n",
    "# Get W&B artifact info\n",
    "api = wandb.Api()\n",
    "user = api.viewer\n",
    "entity = user.entity\n",
    "artifact_ref = f'{entity}/classroom-deploy/iris-rf:latest'\n",
    "\n",
    "# Try to get GCP project ID\n",
    "try:\n",
    "    result = subprocess.run(\n",
    "        [\"gcloud\", \"config\", \"get-value\", \"project\"],\n",
    "        capture_output=True,\n",
    "        text=True,\n",
    "        timeout=5\n",
    "    )\n",
    "    project_id = result.stdout.strip()\n",
    "    if not project_id or project_id == \"(unset)\":\n",
    "        project_id = \"YOUR_PROJECT_ID\"\n",
    "except:\n",
    "    project_id = \"YOUR_PROJECT_ID\"\n",
    "\n",
    "gcr_commands = f\"\"\"\n",
    "═══════════════════════════════════════════════════════════════════════\n",
    "BUILD AND PUSH TO GOOGLE CONTAINER REGISTRY\n",
    "═══════════════════════════════════════════════════════════════════════\n",
    "\n",
    "PROJECT_ID: {project_id}\n",
    "ARTIFACT: {artifact_ref}\n",
    "\n",
    "─────────────────────────────────────────────────────────────────────\n",
    "OPTION A: Build locally and push\n",
    "─────────────────────────────────────────────────────────────────────\n",
    "\n",
    "# Tag your local image for GCR\n",
    "docker tag iris-wandb:local gcr.io/{project_id}/iris-wandb:latest\n",
    "\n",
    "# Push to GCR\n",
    "docker push gcr.io/{project_id}/iris-wandb:latest\n",
    "\n",
    "─────────────────────────────────────────────────────────────────────\n",
    "OPTION B: Use Cloud Build (recommended - builds in cloud)\n",
    "─────────────────────────────────────────────────────────────────────\n",
    "\n",
    "cd /home/chakri/Documents/S-7/MLoPs/Mlops2025w-112201022/CLASS/Week-8/app\n",
    "\n",
    "# Build and push using Cloud Build\n",
    "gcloud builds submit --tag gcr.io/{project_id}/iris-wandb\n",
    "\n",
    "# This command:\n",
    "# - Uploads your code to GCS\n",
    "# - Builds the Docker image in the cloud\n",
    "# - Pushes to GCR automatically\n",
    "\n",
    "═══════════════════════════════════════════════════════════════════════\n",
    "\"\"\"\n",
    "\n",
    "print(gcr_commands)\n",
    "\n",
    "# Save to file for easy reference\n",
    "with open('gcp_deploy_commands.txt', 'w') as f:\n",
    "    f.write(gcr_commands)\n",
    "    \n",
    "print(\"\\n✅ Commands saved to gcp_deploy_commands.txt\")"
   ]
  },
  {
   "cell_type": "markdown",
   "id": "65ace5bb",
   "metadata": {},
   "source": [
    "### 6.3 Build and Push to Google Container Registry\n",
    "\n",
    "Two options to build and push your image to Google Container Registry (GCR):\n",
    "\n",
    "**Option A: Build locally and push** (faster if you already have the image)\n",
    "**Option B: Use Google Cloud Build** (builds in the cloud)"
   ]
  },
  {
   "cell_type": "code",
   "execution_count": 66,
   "id": "c1a6b3b8",
   "metadata": {},
   "outputs": [
    {
     "name": "stdout",
     "output_type": "stream",
     "text": [
      "\n",
      "═══════════════════════════════════════════════════════════════════════\n",
      "GOOGLE CLOUD SETUP COMMANDS\n",
      "═══════════════════════════════════════════════════════════════════════\n",
      "\n",
      "1. Login to Google Cloud:\n",
      "   gcloud auth login\n",
      "\n",
      "2. Create a new project (or use existing):\n",
      "   gcloud projects create iris-ml-deploy --name=\"Iris ML Deployment\"\n",
      "\n",
      "   # Or list existing projects:\n",
      "   gcloud projects list\n",
      "\n",
      "3. Set your project:\n",
      "   gcloud config set project YOUR_PROJECT_ID\n",
      "\n",
      "   # Replace YOUR_PROJECT_ID with your actual project ID\n",
      "\n",
      "4. Enable required APIs:\n",
      "   gcloud services enable run.googleapis.com\n",
      "   gcloud services enable containerregistry.gcr.io\n",
      "   gcloud services enable cloudbuild.googleapis.com\n",
      "\n",
      "5. Configure Docker authentication:\n",
      "   gcloud auth configure-docker\n",
      "\n",
      "6. Set default region (optional):\n",
      "   gcloud config set run/region us-central1\n",
      "\n",
      "═══════════════════════════════════════════════════════════════════════\n",
      "\n",
      "\n",
      "⚠️ Run gcloud commands in terminal to configure.\n"
     ]
    }
   ],
   "source": [
    "# Google Cloud Project Setup Commands\n",
    "# Copy and run these in your terminal\n",
    "\n",
    "setup_commands = \"\"\"\n",
    "═══════════════════════════════════════════════════════════════════════\n",
    "GOOGLE CLOUD SETUP COMMANDS\n",
    "═══════════════════════════════════════════════════════════════════════\n",
    "\n",
    "1. Login to Google Cloud:\n",
    "   gcloud auth login\n",
    "\n",
    "2. Create a new project (or use existing):\n",
    "   gcloud projects create iris-ml-deploy --name=\"Iris ML Deployment\"\n",
    "   \n",
    "   # Or list existing projects:\n",
    "   gcloud projects list\n",
    "\n",
    "3. Set your project:\n",
    "   gcloud config set project YOUR_PROJECT_ID\n",
    "   \n",
    "   # Replace YOUR_PROJECT_ID with your actual project ID\n",
    "\n",
    "4. Enable required APIs:\n",
    "   gcloud services enable run.googleapis.com\n",
    "   gcloud services enable containerregistry.gcr.io\n",
    "   gcloud services enable cloudbuild.googleapis.com\n",
    "\n",
    "5. Configure Docker authentication:\n",
    "   gcloud auth configure-docker\n",
    "\n",
    "6. Set default region (optional):\n",
    "   gcloud config set run/region us-central1\n",
    "\n",
    "═══════════════════════════════════════════════════════════════════════\n",
    "\"\"\"\n",
    "\n",
    "print(setup_commands)\n",
    "\n",
    "# Try to get current project\n",
    "import subprocess\n",
    "try:\n",
    "    result = subprocess.run(\n",
    "        [\"gcloud\", \"config\", \"get-value\", \"project\"],\n",
    "        capture_output=True,\n",
    "        text=True,\n",
    "        timeout=5\n",
    "    )\n",
    "    project_id = result.stdout.strip()\n",
    "    if project_id and project_id != \"(unset)\":\n",
    "        print(f\"\\n✅ Current project: {project_id}\")\n",
    "    else:\n",
    "        print(\"\\n⚠️ No project set. Run the commands above to configure.\")\n",
    "except:\n",
    "    print(\"\\n⚠️ Run gcloud commands in terminal to configure.\")"
   ]
  },
  {
   "cell_type": "markdown",
   "id": "26684232",
   "metadata": {},
   "source": [
    "### 6.2 Configure Google Cloud Project\n",
    "\n",
    "Run these commands in a terminal:"
   ]
  },
  {
   "cell_type": "code",
   "execution_count": 65,
   "id": "3ec2b790",
   "metadata": {},
   "outputs": [
    {
     "name": "stdout",
     "output_type": "stream",
     "text": [
      "❌ gcloud CLI not found!\n",
      "\n",
      "Install it with:\n",
      "curl https://sdk.cloud.google.com | bash\n",
      "exec -l $SHELL\n",
      "\n",
      "Or visit: https://cloud.google.com/sdk/docs/install\n"
     ]
    }
   ],
   "source": [
    "# Check if gcloud is installed\n",
    "import subprocess\n",
    "\n",
    "try:\n",
    "    result = subprocess.run(\n",
    "        [\"gcloud\", \"--version\"],\n",
    "        capture_output=True,\n",
    "        text=True,\n",
    "        timeout=5\n",
    "    )\n",
    "    print(\"✅ Google Cloud SDK is installed!\")\n",
    "    print(result.stdout)\n",
    "except FileNotFoundError:\n",
    "    print(\"❌ gcloud CLI not found!\")\n",
    "    print(\"\\nInstall it with:\")\n",
    "    print(\"curl https://sdk.cloud.google.com | bash\")\n",
    "    print(\"exec -l $SHELL\")\n",
    "    print(\"\\nOr visit: https://cloud.google.com/sdk/docs/install\")\n",
    "except Exception as e:\n",
    "    print(f\"Error: {e}\")"
   ]
  },
  {
   "cell_type": "markdown",
   "id": "74b2acab",
   "metadata": {
    "id": "74b2acab"
   },
   "source": [
    "## 7) Optional: GitHub Actions for CI/CD (auto-deploy on push)\n",
    "\n",
    "Create `.github/workflows/ci-cd.yml` with the following content (example for Cloud Run deployment):\n",
    "\n",
    "```yaml\n",
    "name: CI/CD\n",
    "on:\n",
    "  push:\n",
    "    branches: [ main ]\n",
    "jobs:\n",
    "  build-deploy:\n",
    "    runs-on: ubuntu-latest\n",
    "    steps:\n",
    "      - uses: actions/checkout@v4\n",
    "      - uses: google-github-actions/setup-gcloud@v1\n",
    "        with:\n",
    "          project_id: ${{ secrets.GCP_PROJECT }}\n",
    "          service_account_key: ${{ secrets.GCP_SA_KEY }}\n",
    "      - name: Build & push\n",
    "        run: |\n",
    "          gcloud builds submit --tag gcr.io/$GCP_PROJECT/iris-wandb\n",
    "      - name: Deploy to Cloud Run\n",
    "        run: |\n",
    "          gcloud run deploy iris-wandb \\\n",
    "            --image gcr.io/$GCP_PROJECT/iris-wandb \\\n",
    "            --platform managed \\\n",
    "            --region us-central1 \\\n",
    "            --allow-unauthenticated \\\n",
    "            --set-env-vars=WANDB_API_KEY=${{ secrets.WANDB_API_KEY }},WANDB_MODEL_ARTIFACT=your-username/classroom-deploy/iris-rf:latest\n",
    "```\n",
    "\n",
    "Use GitHub Secrets for `GCP_SA_KEY` and `WANDB_API_KEY`."
   ]
  },
  {
   "cell_type": "markdown",
   "id": "18237083",
   "metadata": {
    "id": "18237083"
   },
   "source": [
    "## 8) Troubleshooting & common issues\n",
    "\n",
    "- **W&B authentication errors**: Ensure `WANDB_API_KEY` is set or run `wandb login`.\n",
    "- **Artifact not found**: Check artifact path format: `username/project/artifact-name:version` or `username/project/artifact-name:latest`.\n",
    "- **Docker permissions**: If `docker build` fails due to permissions, ensure your user can run Docker or use `sudo`.\n",
    "- **Startup latency**: Downloading the artifact at container startup adds latency — consider baking the model into the image for production.\n",
    "\n"
   ]
  },
  {
   "cell_type": "markdown",
   "id": "7766d88c",
   "metadata": {
    "id": "7766d88c"
   },
   "source": [
    "## Instructor notes & grading rubric\n",
    "\n",
    "Suggested rubric:\n",
    "- Model logged as W&B Artifact: 10 pts\n",
    "- Local FastAPI app runs and predicts (no Docker): 20 pts\n",
    "- Docker image build successful: 20 pts\n",
    "- Cloud Run (or cloud) deployment functional: 30 pts\n",
    "- README / Documentation clarity: 20 pts\n",
    "\n",
    "Instructor tip: Pre-create a W&B project and share artifact refs to reduce setup noise in class.\n"
   ]
  }
 ],
 "metadata": {
  "colab": {
   "provenance": []
  },
  "kernelspec": {
   "display_name": "chicken (3.12.3)",
   "language": "python",
   "name": "python3"
  },
  "language_info": {
   "codemirror_mode": {
    "name": "ipython",
    "version": 3
   },
   "file_extension": ".py",
   "mimetype": "text/x-python",
   "name": "python",
   "nbconvert_exporter": "python",
   "pygments_lexer": "ipython3",
   "version": "3.12.3"
  }
 },
 "nbformat": 4,
 "nbformat_minor": 5
}
